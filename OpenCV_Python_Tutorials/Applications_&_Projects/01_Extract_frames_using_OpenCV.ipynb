{
 "cells": [
  {
   "cell_type": "markdown",
   "metadata": {},
   "source": [
    "### Extract frames using OpenCV\n",
    "\n",
    "OpenCV comes with many powerful video editing functions. In the current scenario, techniques such as image scanning and face recognition can be accomplished using OpenCV. OpenCV library can be used to perform multiple operations on videos. Let’s try to do something interesting using CV2. Take a video as input and break the video into frame by frame and save those frames. Now, a number of operations can be performed on these frames. Like reversing the video file or cropping the video etc. For playing video in reverse mode, we need only to store the frames in a list and iterate reverse in the list of frames. Use the reverse method of the list to reverse the order of frames in the list."
   ]
  },
  {
   "cell_type": "code",
   "execution_count": 11,
   "metadata": {},
   "outputs": [],
   "source": [
    "# import libraries\n",
    "import numpy as np\n",
    "import cv2"
   ]
  },
  {
   "cell_type": "code",
   "execution_count": 12,
   "metadata": {},
   "outputs": [],
   "source": [
    "# Function to extract frames \n",
    "def FrameCapture(path): \n",
    "  \n",
    "    # Path to video file \n",
    "    vidObj = cv2.VideoCapture(path)\n",
    "    \n",
    "    if vidObj.isOpened():\n",
    "        # Used as counter variable\n",
    "        count = 0\n",
    "  \n",
    "        # checks whether frames were extracted \n",
    "        success = 1\n",
    "  \n",
    "        while success:  \n",
    "            # vidObj object calls read function extract frames \n",
    "            success, image = vidObj.read()\n",
    "            \n",
    "            if success:  \n",
    "                # Saves the frames with frame-count \n",
    "                cv2.imwrite(\"frame%d.jpg\" % count, image) \n",
    "  \n",
    "            count += 1\n",
    "\n",
    "        vidObj.release()        \n",
    "cv2.destroyAllWindows()  \n",
    "  \n",
    "# Driver Code \n",
    "if __name__ == '__main__':  \n",
    "    # Calling the function \n",
    "    FrameCapture(\"E:\\iNeuron\\iNeuron_OpenCV\\Computer_Vision_Tutorials\\OpenCV_Python_Tutorials\\Working_with_Videos\\GenerateVideo\\mygeneratedvideo.avi\")"
   ]
  }
 ],
 "metadata": {
  "kernelspec": {
   "display_name": "ComputerVision",
   "language": "python",
   "name": "python3"
  },
  "language_info": {
   "codemirror_mode": {
    "name": "ipython",
    "version": 3
   },
   "file_extension": ".py",
   "mimetype": "text/x-python",
   "name": "python",
   "nbconvert_exporter": "python",
   "pygments_lexer": "ipython3",
   "version": "3.9.15"
  }
 },
 "nbformat": 4,
 "nbformat_minor": 2
}
