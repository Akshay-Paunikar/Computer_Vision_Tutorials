{
 "cells": [
  {
   "cell_type": "markdown",
   "metadata": {},
   "source": [
    "### Writing an image in OpenCV using Python\n",
    "\n",
    "cv2.imwrite() method is used to save an image to any storage device. This will save the image according to the specified format in current working directory.\n",
    "\n",
    "<b>Syntax:</b> cv2.imwrite(filename, image) \n",
    "\n",
    "<b>Parameters:</b> \n",
    "\n",
    " - filename: A string representing the file name. The filename must include image format like .jpg, .png, etc. image: It is the image that is to be saved. \n",
    " - Return Value: It returns true if image is saved successfully."
   ]
  },
  {
   "cell_type": "code",
   "execution_count": 1,
   "metadata": {},
   "outputs": [],
   "source": [
    "# import required libraries\n",
    "import os\n",
    "import cv2"
   ]
  },
  {
   "cell_type": "code",
   "execution_count": 2,
   "metadata": {},
   "outputs": [
    {
     "data": {
      "text/plain": [
       "'e:\\\\iNeuron\\\\iNeuron_OpenCv\\\\Computer_Vision_Tutorials\\\\OpenCV_Python_Tutorials\\\\Working_with_Images'"
      ]
     },
     "execution_count": 2,
     "metadata": {},
     "output_type": "execute_result"
    }
   ],
   "source": [
    "# current working directory\n",
    "%pwd"
   ]
  },
  {
   "cell_type": "code",
   "execution_count": 3,
   "metadata": {},
   "outputs": [
    {
     "name": "stdout",
     "output_type": "stream",
     "text": [
      "Before saving the image:\n",
      "['01_Reading_an_image_in_OpenCV_using_Python.ipynb', '02_Display_an_image_in_OpenCV_using_Python.ipynb', '03_Writing_an_image_in_OpenCV_using_Python.ipynb', 'puppy.jpg']\n",
      "After writing the image:\n",
      "['01_Reading_an_image_in_OpenCV_using_Python.ipynb', '02_Display_an_image_in_OpenCV_using_Python.ipynb', '03_Writing_an_image_in_OpenCV_using_Python.ipynb', 'puppy.jpg', 'writtenImage.jpg']\n",
      "image successfully saved\n"
     ]
    }
   ],
   "source": [
    "# write an image using cv2.imwrite()\n",
    "path = \"e:\\\\iNeuron\\\\iNeuron_OpenCv\\\\Computer_Vision_Tutorials\\\\OpenCV_Python_Tutorials\\\\Working_with_Images\\\\puppy.jpg\"\n",
    "\n",
    "# give path of the directory where you want to save the image\n",
    "directory_path = \"e:\\\\iNeuron\\\\iNeuron_OpenCv\\\\Computer_Vision_Tutorials\\\\OpenCV_Python_Tutorials\\\\Working_with_Images\"\n",
    "\n",
    "# read the image using cv2.imread()\n",
    "image = cv2.imread(path, 1)\n",
    "\n",
    "# to change the directory to specified directory use following code (here it is not necessary as we are saving it in same folder)\n",
    "# os.chdir(\"path to desired directory where you want to save the iamge\")\n",
    "\n",
    "# list the files in directory before writing the image\n",
    "print(\"Before saving the image:\")\n",
    "print(os.listdir(directory_path))\n",
    "\n",
    "# give a filename to be used in cv2.imwrite()\n",
    "filename = \"writtenImage.jpg\"\n",
    "\n",
    "# save the image using cv2.imwrite()\n",
    "cv2.imwrite(filename, image)\n",
    "\n",
    "# list the files in directory after writing the image\n",
    "print(\"After writing the image:\")\n",
    "print(os.listdir(directory_path))\n",
    "print(\"image successfully saved\")"
   ]
  },
  {
   "cell_type": "code",
   "execution_count": 5,
   "metadata": {},
   "outputs": [],
   "source": [
    "# let's display the written image\n",
    "image = cv2.imread(\"writtenImage.jpg\", 1)\n",
    "\n",
    "cv2.imshow(\"written image\", image)\n",
    "cv2.waitKey(0)\n",
    "cv2.destroyAllWindows()"
   ]
  }
 ],
 "metadata": {
  "kernelspec": {
   "display_name": "ComputerVision",
   "language": "python",
   "name": "python3"
  },
  "language_info": {
   "codemirror_mode": {
    "name": "ipython",
    "version": 3
   },
   "file_extension": ".py",
   "mimetype": "text/x-python",
   "name": "python",
   "nbconvert_exporter": "python",
   "pygments_lexer": "ipython3",
   "version": "3.9.15"
  }
 },
 "nbformat": 4,
 "nbformat_minor": 2
}
