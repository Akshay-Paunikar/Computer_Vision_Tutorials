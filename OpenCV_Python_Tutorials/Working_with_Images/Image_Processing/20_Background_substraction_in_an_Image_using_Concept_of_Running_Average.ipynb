{
 "cells": [
  {
   "attachments": {
    "image.png": {
     "image/png": "[encoded data removed]"
    }
   },
   "cell_type": "markdown",
   "metadata": {},
   "source": [
    "### Background substraction in an Image using Concept of Running Average\n",
    "\n",
    "Background subtraction is a technique for separating out foreground elements from the background and is done by generating a foreground mask. This technique is used for detecting dynamically moving objects from static cameras. Background subtraction technique is important for object tracking. \n",
    "\n",
    "There are several techniques for background subtraction In this article, we discuss the concept of Running Average. The running average of a function is used to separate foreground from background. In this concept, the video sequence is analyzed over a particular set of frames. During this sequence of frames, the running average over the current frame and the previous frames is computed. This gives us the background model and any new object introduced in the during the sequencing of the video becomes the part of the foreground. Then, the current frame holds the newly introduced object with the background. Then the computation of the absolute difference between the background model (which is a function of time) and the current frame (which is newly introduced object) is done. \n",
    "\n",
    "Running average is computed using the equation given below :\n",
    "\n",
    "![image.png](attachment:image.png)\n",
    "\n",
    "#### How Running Average method works?\n",
    "\n",
    "The objective of the program is to detect active objects from the difference obtained from the reference frame and the current frame. We keep feeding each frame to the given function, and the function keeps finding the averages of all frames. Then we compute the absolute difference between the frames. The function used is cv2.accumulateWeighted().\n",
    "\n",
    " - cv2.accumulateWeighted(src, dst, alpha)\n",
    "\n",
    "The parameters passed in this function are :\n",
    "\n",
    " 1. src: The source image. The image can be colored or grayscaled image and either 8-bit or 32-bit floating point.\n",
    " 2. dst: The accumulator or the destination image. It is either 32-bit or 64-bit floating point. NOTE: It should have the same channels as that of the source image. Also, the value of dst should be predeclared initially.\n",
    " 3. alpha: Weight of the input image. Alpha decides the speed of updating. If you set a lower value for this variable, running average will be performed over a larger amount of previous frames and vice-versa."
   ]
  },
  {
   "cell_type": "code",
   "execution_count": 1,
   "metadata": {},
   "outputs": [],
   "source": [
    "import cv2 \n",
    "import numpy as np"
   ]
  },
  {
   "cell_type": "code",
   "execution_count": 2,
   "metadata": {},
   "outputs": [],
   "source": [
    "# capture frames from a camera \n",
    "cap = cv2.VideoCapture(0) \n",
    "  \n",
    "# read the frames from the camera \n",
    "_, img = cap.read() \n",
    "  \n",
    "# modify the data type \n",
    "# setting to 32-bit floating point \n",
    "averageValue1 = np.float32(img) \n",
    "  \n",
    "# loop runs if capturing has been initialized.  \n",
    "while(1): \n",
    "    # reads frames from a camera  \n",
    "    _, img = cap.read() \n",
    "      \n",
    "    # using the cv2.accumulateWeighted() function \n",
    "    # that updates the running average \n",
    "    cv2.accumulateWeighted(img, averageValue1, 0.02) \n",
    "      \n",
    "    # converting the matrix elements to absolute values  \n",
    "    # and converting the result to 8-bit.  \n",
    "    resultingFrames1 = cv2.convertScaleAbs(averageValue1) \n",
    "  \n",
    "    # Show two output windows \n",
    "    # the input / original frames window \n",
    "    cv2.imshow('InputWindow', img) \n",
    "  \n",
    "    # the window showing output of alpha value 0.02 \n",
    "    cv2.imshow('averageValue1', resultingFrames1) \n",
    "      \n",
    "    # Wait for Esc key to stop the program  \n",
    "    k = cv2.waitKey(30) & 0xff\n",
    "    if k == 27:  \n",
    "        break\n",
    "  \n",
    "# Close the window  \n",
    "cap.release()  \n",
    "    \n",
    "# De-allocate any associated memory usage  \n",
    "cv2.destroyAllWindows()"
   ]
  }
 ],
 "metadata": {
  "kernelspec": {
   "display_name": "ComputerVision",
   "language": "python",
   "name": "python3"
  },
  "language_info": {
   "codemirror_mode": {
    "name": "ipython",
    "version": 3
   },
   "file_extension": ".py",
   "mimetype": "text/x-python",
   "name": "python",
   "nbconvert_exporter": "python",
   "pygments_lexer": "ipython3",
   "version": "3.9.15"
  }
 },
 "nbformat": 4,
 "nbformat_minor": 2
}
