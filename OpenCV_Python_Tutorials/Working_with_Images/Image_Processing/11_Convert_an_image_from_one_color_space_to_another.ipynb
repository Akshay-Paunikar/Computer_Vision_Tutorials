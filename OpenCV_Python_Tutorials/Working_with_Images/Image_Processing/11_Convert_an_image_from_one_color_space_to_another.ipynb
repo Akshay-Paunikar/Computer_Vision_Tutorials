{
 "cells": [
  {
   "cell_type": "markdown",
   "metadata": {},
   "source": [
    "### Convert an image from one color space to another\n",
    "\n",
    "cv2.cvtColor() method is used to convert an image from one color space to another. There are more than 150 color-space conversion methods available in OpenCV. We will use some of color space conversion codes below.\n",
    "\n",
    "<b>Syntax:</b> cv2.cvtColor(src, code[, dst[, dstCn]]) \n",
    "\n",
    "<b>Parameters:</b>\n",
    "\n",
    " - src: It is the image whose color space is to be changed. \n",
    " - code: It is the color space conversion code. \n",
    " - dst: It is the output image of the same size and depth as src image. It is an optional parameter. \n",
    " - dstCn: It is the number of channels in the destination image. If the parameter is 0 then the number of the channels is derived automatically from src and code. It is an optional parameter. \n",
    " - Return Value: It returns an image."
   ]
  },
  {
   "cell_type": "code",
   "execution_count": 1,
   "metadata": {},
   "outputs": [],
   "source": [
    "import cv2"
   ]
  },
  {
   "cell_type": "code",
   "execution_count": 3,
   "metadata": {},
   "outputs": [],
   "source": [
    "# read input image\n",
    "image = cv2.imread(\"border.png\", 1)\n",
    "\n",
    "# Using cv2.cvtColor() method, cv2.COLOR_BGR2GRAY color space conversion code \n",
    "grayscale = cv2.cvtColor(image, cv2.COLOR_BGR2GRAY)\n",
    "\n",
    "hsv = cv2.cvtColor(image, cv2.COLOR_BGR2HSV)\n",
    "\n",
    "cv2.imshow(\"image\", image)\n",
    "cv2.imshow(\"grayscale\", grayscale)\n",
    "cv2.imshow(\"hsv\", hsv)\n",
    "\n",
    "cv2.waitKey(0)\n",
    "cv2.destroyAllWindows()"
   ]
  }
 ],
 "metadata": {
  "kernelspec": {
   "display_name": "ComputerVision",
   "language": "python",
   "name": "python3"
  },
  "language_info": {
   "codemirror_mode": {
    "name": "ipython",
    "version": 3
   },
   "file_extension": ".py",
   "mimetype": "text/x-python",
   "name": "python",
   "nbconvert_exporter": "python",
   "pygments_lexer": "ipython3",
   "version": "3.9.15"
  }
 },
 "nbformat": 4,
 "nbformat_minor": 2
}
