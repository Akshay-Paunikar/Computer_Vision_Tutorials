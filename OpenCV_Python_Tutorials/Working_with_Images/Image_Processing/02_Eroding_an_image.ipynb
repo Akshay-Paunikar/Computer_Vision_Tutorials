{
 "cells": [
  {
   "cell_type": "markdown",
   "metadata": {},
   "source": [
    "### Eroding an image\n",
    "\n",
    "cv2.erode() method is used to perform erosion on the image. The basic idea of erosion is just like soil erosion only, it erodes away the boundaries of foreground object (Always try to keep foreground in white). It is normally performed on binary images. It needs two inputs, one is our original image, second one is called structuring element or kernel which decides the nature of operation. A pixel in the original image (either 1 or 0) will be considered 1 only if all the pixels under the kernel is 1, otherwise it is eroded (made to zero).\n",
    "\n",
    "<b>Syntax:</b> cv2.erode(src, kernel[, dst[, anchor[, iterations[, borderType[, borderValue]]]]])\n",
    "\n",
    "<b>Parameters:</b> \n",
    "\n",
    " - src: It is the image which is to be eroded. \n",
    " - kernel: A structuring element used for erosion. If element = Mat(), a 3 x 3 rectangular structuring element is used. Kernel can be created using getStructuringElement.\n",
    " - dst: It is the output image of the same size and type as src. \n",
    " - anchor: It is a variable of type integer representing anchor point and it’s default value Point is (-1, -1) which means that the anchor is at the kernel center. \n",
    " - borderType: It depicts what kind of border to be added. It is defined by flags like cv2.BORDER_CONSTANT, cv2.BORDER_REFLECT, etc. \n",
    " - iterations: It is number of times erosion is applied. \n",
    " - borderValue: It is border value in case of a constant border. \n",
    " - Return Value: It returns an image."
   ]
  },
  {
   "cell_type": "code",
   "execution_count": 1,
   "metadata": {},
   "outputs": [],
   "source": [
    "import cv2\n",
    "import numpy as np"
   ]
  },
  {
   "cell_type": "code",
   "execution_count": 3,
   "metadata": {},
   "outputs": [],
   "source": [
    "# read the image\n",
    "image = cv2.imread(\"orange.jpg\", 1)\n",
    "\n",
    "# display the original image\n",
    "cv2.imshow(\"image\", image)\n",
    "cv2.waitKey(0)\n",
    "cv2.destroyAllWindows()\n",
    "\n",
    "# create the kernel\n",
    "kernel = np.ones((5,5), np.uint8)\n",
    "\n",
    "# use cv2.erode()\n",
    "image = cv2.erode(image, kernel)\n",
    "\n",
    "# display the eroded image\n",
    "cv2.imshow(\"image\", image)\n",
    "cv2.waitKey(0)\n",
    "cv2.destroyAllWindows()"
   ]
  },
  {
   "cell_type": "code",
   "execution_count": 7,
   "metadata": {},
   "outputs": [],
   "source": [
    "# read the image\n",
    "image = cv2.imread(\"orange.jpg\", 1)\n",
    "\n",
    "# display the original image\n",
    "cv2.imshow(\"image\", image)\n",
    "cv2.waitKey(0)\n",
    "cv2.destroyAllWindows()\n",
    "\n",
    "# create the kernel\n",
    "kernel = np.ones((11,11), np.uint8)\n",
    "\n",
    "# use cv2.erode()\n",
    "image = cv2.erode(image, kernel, cv2.BORDER_REFLECT)\n",
    "\n",
    "# display the eroded image\n",
    "cv2.imshow(\"image\", image)\n",
    "cv2.waitKey(0)\n",
    "cv2.destroyAllWindows()"
   ]
  }
 ],
 "metadata": {
  "kernelspec": {
   "display_name": "ComputerVision",
   "language": "python",
   "name": "python3"
  },
  "language_info": {
   "codemirror_mode": {
    "name": "ipython",
    "version": 3
   },
   "file_extension": ".py",
   "mimetype": "text/x-python",
   "name": "python",
   "nbconvert_exporter": "python",
   "pygments_lexer": "ipython3",
   "version": "3.9.15"
  }
 },
 "nbformat": 4,
 "nbformat_minor": 2
}
