{
 "cells": [
  {
   "cell_type": "markdown",
   "metadata": {},
   "source": [
    "### Grayscaling of images using OpenCV\n",
    "\n",
    "Grayscaling is the process of converting an image from other color spaces e.g. RGB, CMYK, HSV, etc. to shades of gray. It varies between complete black and complete white.\n",
    "\n",
    "Importance of grayscaling \n",
    "\n",
    " - Dimension reduction: For example, In RGB images there are three color channels and three dimensions while grayscale images are single-dimensional.\n",
    " - Reduces model complexity: Consider training neural articles on RGB images of 10x10x3 pixels. The input layer will have 300 input nodes. On the other hand, the same neural network will need only 100 input nodes for grayscale images.\n",
    " - For other algorithms to work: Many algorithms are customized to work only on grayscale images e.g. Canny edge detection function pre-implemented in the OpenCV library works on Grayscale images only.\n",
    "\n",
    "Let’s learn the different image processing methods to convert a colored image into a grayscale image."
   ]
  },
  {
   "cell_type": "markdown",
   "metadata": {},
   "source": [
    "#### Method 1: Using the cv2.cvtColor() function\n",
    "Import the OpenCV and read the original image using imread() than convert to grayscale using cv2.cvtcolor() function. destroyAllWindows() function allows users to destroy or close all windows at any time after exiting the script."
   ]
  },
  {
   "cell_type": "code",
   "execution_count": 1,
   "metadata": {},
   "outputs": [],
   "source": [
    "import cv2"
   ]
  },
  {
   "cell_type": "code",
   "execution_count": 2,
   "metadata": {},
   "outputs": [],
   "source": [
    "# Load the input image \n",
    "image = cv2.imread(\"orange.jpg\") \n",
    "cv2.imshow('Original', image) \n",
    "cv2.waitKey(0) \n",
    "  \n",
    "# Use the cvtColor() function to grayscale the image \n",
    "gray_image = cv2.cvtColor(image, cv2.COLOR_BGR2GRAY) \n",
    "  \n",
    "cv2.imshow('Grayscale', gray_image) \n",
    "cv2.waitKey(0)   \n",
    "  \n",
    "# Window shown waits for any key pressing event \n",
    "cv2.destroyAllWindows()"
   ]
  },
  {
   "cell_type": "markdown",
   "metadata": {},
   "source": [
    "#### Method 2: Using the cv2.imread() function with flag=zero\n",
    "Import the OpenCV and read the original image using imread() than convert to grayscale using cv2.cvtcolor() function."
   ]
  },
  {
   "cell_type": "code",
   "execution_count": 3,
   "metadata": {},
   "outputs": [],
   "source": [
    "# Load the input image \n",
    "image = cv2.imread(\"orange.jpg\", 0)\n",
    "\n",
    "cv2.imshow('Grayscale', image) \n",
    "cv2.waitKey(0)\n",
    "cv2.destroyAllWindows()"
   ]
  },
  {
   "cell_type": "markdown",
   "metadata": {},
   "source": [
    "#### Method 3: Using the pixel manipulation (Average method)"
   ]
  },
  {
   "cell_type": "code",
   "execution_count": 4,
   "metadata": {},
   "outputs": [],
   "source": [
    "# Load the input image \n",
    "image = cv2.imread(\"orange.jpg\") \n",
    "  \n",
    "# Obtain the dimensions of the image array using the shape method \n",
    "(row, col) = image.shape[0:2] \n",
    "  \n",
    "# Take the average of pixel values of the BGR Channels to convert the colored image to grayscale image \n",
    "for i in range(row): \n",
    "    for j in range(col): \n",
    "        # Find the average of the BGR pixel values \n",
    "        image[i, j] = sum(image[i, j]) * 0.33\n",
    "  \n",
    "cv2.imshow('Grayscale Image', image) \n",
    "cv2.waitKey(0) \n",
    "  \n",
    "# Window shown waits for any key pressing event \n",
    "cv2.destroyAllWindows()"
   ]
  }
 ],
 "metadata": {
  "kernelspec": {
   "display_name": "ComputerVision",
   "language": "python",
   "name": "python3"
  },
  "language_info": {
   "codemirror_mode": {
    "name": "ipython",
    "version": 3
   },
   "file_extension": ".py",
   "mimetype": "text/x-python",
   "name": "python",
   "nbconvert_exporter": "python",
   "pygments_lexer": "ipython3",
   "version": "3.9.15"
  }
 },
 "nbformat": 4,
 "nbformat_minor": 2
}
