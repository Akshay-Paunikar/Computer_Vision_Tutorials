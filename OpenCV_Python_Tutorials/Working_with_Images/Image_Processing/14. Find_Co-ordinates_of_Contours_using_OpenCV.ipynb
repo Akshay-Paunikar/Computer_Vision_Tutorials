{
 "cells": [
  {
   "cell_type": "markdown",
   "metadata": {},
   "source": [
    "### Find Co-ordinates of Contours using OpenCV\n",
    "\n",
    "Contours are defined as the line joining all the points along the boundary of an image that are having the same intensity. Contours come handy in shape analysis, finding the size of the object of interest, and object detection. \n",
    "\n",
    "We will be using OpenCV findContour() function that helps in extracting the contours from the image. \n",
    "\n",
    "<b>Approach:</b> The Co-ordinates of each vertices of a contour is hidden in the contour itself. In this approach, we will be using numpy library to convert all the co-ordinates of a contour into a linear array. This linear array would contain the x and y co-ordinates of each contour. The key point here is that the first co-ordinate in the array would always be the co-ordinate of the topmost vertex and hence could help in detection of orientation of an image."
   ]
  },
  {
   "cell_type": "code",
   "execution_count": 1,
   "metadata": {},
   "outputs": [],
   "source": [
    "import cv2\n",
    "import numpy as np"
   ]
  },
  {
   "cell_type": "code",
   "execution_count": 3,
   "metadata": {},
   "outputs": [],
   "source": [
    "# read the input image\n",
    "image = cv2.imread(\"Contours.png\", 1)\n",
    "image2 = cv2.imread(\"Contours.png\", 0)\n",
    "\n",
    "font = cv2.FONT_HERSHEY_COMPLEX\n",
    "\n",
    "# Converting image to a binary image\n",
    "_, threshold = cv2.threshold(image2, 110, 255, cv2.THRESH_BINARY)\n",
    "\n",
    "# Detecting contours in image\n",
    "contours, _ = cv2.findContours(threshold, cv2.RETR_TREE, cv2.CHAIN_APPROX_SIMPLE)\n",
    "\n",
    "# Going through every contours found in the image. \n",
    "for cnt in contours : \n",
    "  \n",
    "    approx = cv2.approxPolyDP(cnt, 0.009 * cv2.arcLength(cnt, True), True) \n",
    "  \n",
    "    # draws boundary of contours. \n",
    "    cv2.drawContours(image, [approx], 0, (0, 0, 255), 5)  \n",
    "  \n",
    "    # Used to flatted the array containing \n",
    "    # the co-ordinates of the vertices. \n",
    "    n = approx.ravel()  \n",
    "    i = 0\n",
    "  \n",
    "    for j in n : \n",
    "        if(i % 2 == 0): \n",
    "            x = n[i] \n",
    "            y = n[i + 1] \n",
    "  \n",
    "            # String containing the co-ordinates. \n",
    "            string = str(x) + \" \" + str(y)  \n",
    "  \n",
    "            if(i == 0): \n",
    "                # text on topmost co-ordinate. \n",
    "                cv2.putText(image, \"Arrow tip\", (x, y), \n",
    "                                font, 0.5, (255, 0, 0))  \n",
    "            else: \n",
    "                # text on remaining co-ordinates. \n",
    "                cv2.putText(image, string, (x, y),  \n",
    "                          font, 0.5, (0, 255, 0))  \n",
    "        i = i + 1\n",
    "  \n",
    "# Showing the final image. \n",
    "cv2.imshow('image2', image)\n",
    "\n",
    "# Exiting the window if 'q' is pressed on the keyboard. \n",
    "if cv2.waitKey(0) & 0xFF == ord('q'):  \n",
    "    cv2.destroyAllWindows()"
   ]
  }
 ],
 "metadata": {
  "kernelspec": {
   "display_name": "ComputerVision",
   "language": "python",
   "name": "python3"
  },
  "language_info": {
   "codemirror_mode": {
    "name": "ipython",
    "version": 3
   },
   "file_extension": ".py",
   "mimetype": "text/x-python",
   "name": "python",
   "nbconvert_exporter": "python",
   "pygments_lexer": "ipython3",
   "version": "3.9.15"
  }
 },
 "nbformat": 4,
 "nbformat_minor": 2
}
