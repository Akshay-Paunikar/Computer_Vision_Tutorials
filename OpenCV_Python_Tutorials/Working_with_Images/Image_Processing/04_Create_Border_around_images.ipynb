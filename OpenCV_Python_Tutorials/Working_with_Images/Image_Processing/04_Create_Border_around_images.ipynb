{
 "cells": [
  {
   "cell_type": "markdown",
   "metadata": {},
   "source": [
    "### Create Border around images\n",
    "\n",
    "cv2.copyMakeBorder() method is used to create a border around the image like a photo frame.\n",
    "\n",
    "<b>Syntax:</b> cv2.copyMakeBorder(src, top, bottom, left, right, borderType, value)\n",
    "\n",
    "<b>Parameters:</b>\n",
    "\n",
    " - src: It is the source image. \n",
    " - top: It is the border width in number of pixels in top direction. \n",
    " - bottom: It is the border width in number of pixels in bottom direction. \n",
    " - left: It is the border width in number of pixels in left direction. \n",
    " - right: It is the border width in number of pixels in right direction. \n",
    " - borderType: It depicts what kind of border to be added. It is defined by flags like cv2.BORDER_CONSTANT, cv2.BORDER_REFLECT, etc dest: It is the destination image\n",
    " - value: It is an optional parameter which depicts color of border if border type is cv2.BORDER_CONSTANT.\n",
    "\n",
    " - Return Value: It returns an image.\n",
    "\n",
    "The borderType flags are described below:\n",
    "\n",
    " - cv2.BORDER_CONSTANT: It adds a constant colored border. The value should be given as a keyword argument\n",
    " - cv2.BORDER_REFLECT: The border will be mirror reflection of the border elements. Suppose, if image contains letters “abcdefg” then output will be “gfedcba|abcdefg|gfedcba“. \n",
    " - cv2.BORDER_REFLECT_101 or cv2.BORDER_DEFAULT: It does the same works as cv2.BORDER_REFLECT but with slight change. Suppose, if image contains letters “abcdefgh” then output will be “gfedcb|abcdefgh|gfedcba“. \n",
    " - cv2.BORDER_REPLICATE: It replicates the last element. Suppose, if image contains letters “abcdefgh” then output will be “aaaaa|abcdefgh|hhhhh“."
   ]
  },
  {
   "cell_type": "code",
   "execution_count": 1,
   "metadata": {},
   "outputs": [],
   "source": [
    "import cv2"
   ]
  },
  {
   "cell_type": "code",
   "execution_count": 18,
   "metadata": {},
   "outputs": [],
   "source": [
    "# read the image\n",
    "image = cv2.imread(\"border.png\", 1)\n",
    "\n",
    "# using cv2.copyMakeBorder() method\n",
    "image = cv2.copyMakeBorder(image, 10, 10, 10, 10, borderType=cv2.BORDER_CONSTANT, value=0)\n",
    "\n",
    "# display the image\n",
    "cv2.imshow(\"BORDER CONSTANT\", image)\n",
    "\n",
    "cv2.waitKey(0)\n",
    "cv2.destroyAllWindows()"
   ]
  },
  {
   "cell_type": "code",
   "execution_count": 19,
   "metadata": {},
   "outputs": [],
   "source": [
    "# read the image\n",
    "image = cv2.imread(\"border.png\", 1)\n",
    "\n",
    "# using cv2.copyMakeBorder() method\n",
    "image = cv2.copyMakeBorder(image, 100, 100, 50, 50, borderType=cv2.BORDER_REFLECT, value=0)\n",
    "\n",
    "# display the image\n",
    "cv2.imshow(\"BORDER REFLECT\", image)\n",
    "\n",
    "cv2.waitKey(0)\n",
    "cv2.destroyAllWindows()"
   ]
  },
  {
   "cell_type": "code",
   "execution_count": 20,
   "metadata": {},
   "outputs": [],
   "source": [
    "# read the image\n",
    "image = cv2.imread(\"border.png\", 1)\n",
    "\n",
    "# using cv2.copyMakeBorder() method\n",
    "image = cv2.copyMakeBorder(image, 100, 100, 50, 50, borderType=cv2.BORDER_REFLECT101)\n",
    "\n",
    "# display the image\n",
    "cv2.imshow(\"BORDER REFLECT 101\", image)\n",
    "\n",
    "cv2.waitKey(0)\n",
    "cv2.destroyAllWindows()"
   ]
  },
  {
   "cell_type": "code",
   "execution_count": 25,
   "metadata": {},
   "outputs": [],
   "source": [
    "# read the image\n",
    "image = cv2.imread(\"border.png\", 1)\n",
    "\n",
    "# using cv2.copyMakeBorder() method\n",
    "image = cv2.copyMakeBorder(image, 10, 10, 50, 50, borderType=cv2.BORDER_REPLICATE)\n",
    "\n",
    "# display the image\n",
    "cv2.imshow(\"BORDER REPLICATE\", image)\n",
    "\n",
    "cv2.waitKey(0)\n",
    "cv2.destroyAllWindows()"
   ]
  }
 ],
 "metadata": {
  "kernelspec": {
   "display_name": "ComputerVision",
   "language": "python",
   "name": "python3"
  },
  "language_info": {
   "codemirror_mode": {
    "name": "ipython",
    "version": 3
   },
   "file_extension": ".py",
   "mimetype": "text/x-python",
   "name": "python",
   "nbconvert_exporter": "python",
   "pygments_lexer": "ipython3",
   "version": "3.9.15"
  }
 },
 "nbformat": 4,
 "nbformat_minor": 2
}
