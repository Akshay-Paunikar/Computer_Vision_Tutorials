{
 "cells": [
  {
   "cell_type": "markdown",
   "metadata": {},
   "source": [
    "### Morphological Operations in Image Processing\n",
    "\n",
    "Morphological operations are used to extract image components that are useful in the representation and description of region shape. Morphological operations are some basic tasks dependent on the picture shape. It is typically performed on binary images. It needs two data sources, one is the input image, the second one is called structuring component. Morphological operators take an input image and a structuring component as input and these elements are then combines using the set operators. The objects in the input image are processed depending on attributes of the shape of the image, which are encoded in the structuring component. \n",
    "\n",
    "#### Opening:\n",
    "\n",
    "Opening is similar to erosion as it tends to remove the bright foreground pixels from the edges of regions of foreground pixels. The impact of the operator is to safeguard foreground region that has similarity with the structuring component, or that can totally contain the structuring component while taking out every single other area of foreground pixels. Opening operation is used for removing internal noise in an image.\n",
    "Opening is erosion operation followed by dilation operation.\n",
    "\n",
    "<b>Syntax:</b> cv2.morphologyEx(image, cv2.MORPH_OPEN, kernel)\n",
    "\n",
    "<b>Parameters:</b>\n",
    "\n",
    " - image: Input Image array. \n",
    " - cv2.MORPH_OPEN: Applying the Morphological Opening operation. \n",
    " - kernel: Structuring element. "
   ]
  },
  {
   "cell_type": "code",
   "execution_count": 1,
   "metadata": {},
   "outputs": [],
   "source": [
    "import cv2\n",
    "import numpy as np"
   ]
  },
  {
   "cell_type": "code",
   "execution_count": 2,
   "metadata": {},
   "outputs": [],
   "source": [
    "# read the webcam\n",
    "screen = cv2.VideoCapture(0)\n",
    "\n",
    "# loop runs if capturing has been initialized. \n",
    "while(1): \n",
    "    # reads frames from a camera \n",
    "    _, image = screen.read() \n",
    "      \n",
    "    # Converts to HSV color space, OCV reads colors as BGR  \n",
    "    # frame is converted to hsv \n",
    "    hsv = cv2.cvtColor(image, cv2.COLOR_BGR2HSV) \n",
    "      \n",
    "    # defining the range of masking \n",
    "    blue1 = np.array([110, 50, 50]) \n",
    "    blue2 = np.array([130, 255, 255]) \n",
    "      \n",
    "    # initializing the mask to be \n",
    "    # convoluted over input image \n",
    "    mask = cv2.inRange(hsv, blue1, blue2) \n",
    "  \n",
    "    # passing the bitwise_and over \n",
    "    # each pixel convoluted \n",
    "    res = cv2.bitwise_and(image, image, mask = mask) \n",
    "      \n",
    "    # defining the kernel i.e. Structuring element \n",
    "    kernel = np.ones((5, 5), np.uint8) \n",
    "      \n",
    "    # defining the opening function  \n",
    "    # over the image and structuring element \n",
    "    opening = cv2.morphologyEx(mask, cv2.MORPH_OPEN, kernel) \n",
    "     \n",
    "    # The mask and opening operation \n",
    "    # is shown in the window  \n",
    "    cv2.imshow('Mask', mask) \n",
    "    cv2.imshow('Opening', opening) \n",
    "      \n",
    "    # Wait for 'a' key to stop the program  \n",
    "    if cv2.waitKey(1) & 0xFF == ord('a'): \n",
    "        break\n",
    "  \n",
    "# De-allocate any associated memory usage   \n",
    "cv2.destroyAllWindows() \n",
    "  \n",
    "# Close the window / Release webcam  \n",
    "screen.release() "
   ]
  },
  {
   "cell_type": "code",
   "execution_count": null,
   "metadata": {},
   "outputs": [],
   "source": []
  }
 ],
 "metadata": {
  "kernelspec": {
   "display_name": "ComputerVision",
   "language": "python",
   "name": "python3"
  },
  "language_info": {
   "codemirror_mode": {
    "name": "ipython",
    "version": 3
   },
   "file_extension": ".py",
   "mimetype": "text/x-python",
   "name": "python",
   "nbconvert_exporter": "python",
   "pygments_lexer": "ipython3",
   "version": "3.9.15"
  }
 },
 "nbformat": 4,
 "nbformat_minor": 2
}
