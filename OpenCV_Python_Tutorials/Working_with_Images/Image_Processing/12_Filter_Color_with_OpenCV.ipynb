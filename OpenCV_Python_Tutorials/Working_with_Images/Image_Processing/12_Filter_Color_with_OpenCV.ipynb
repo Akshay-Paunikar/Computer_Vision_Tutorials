{
 "cells": [
  {
   "cell_type": "markdown",
   "metadata": {},
   "source": [
    "### Filter Color with OpenCV\n",
    "\n",
    "Colour segmentation or color filtering is widely used in OpenCV for identifying specific objects/regions having a specific color. The most widely used color space is RGB color space, it is called an additive color space as the three color shades add up to give color to the image. To identify a region of a specific color, put the threshold and create a mask to separate the different colors. \n",
    "\n",
    "HSV color space is much more useful for this purpose as the colors in HSV space are much more localized thus can be easily separated. \n",
    "\n",
    "Color Filtering has many applications and uses cases such as in Cryptography, infrared analysis, food preservation of perishable foods, etc. In such cases, the concepts of Image processing can be used to find out or extract out regions of a particular color. \n",
    "\n",
    "For color segmentation, all we need is the threshold values or the knowledge of the lower bound and upper bound range of colors in one of the color spaces. It works best in the Hue-Saturation-Value color space. \n",
    "\n",
    "After specifying the range of color to be segmented, it is needed to create a mask accordingly and by using it, a particular region of interest can be separated out."
   ]
  },
  {
   "cell_type": "code",
   "execution_count": 1,
   "metadata": {},
   "outputs": [],
   "source": [
    "import cv2\n",
    "import numpy as np"
   ]
  },
  {
   "cell_type": "code",
   "execution_count": 2,
   "metadata": {},
   "outputs": [],
   "source": [
    "# capture live feed\n",
    "cap = cv2.VideoCapture(0)\n",
    "\n",
    "while(1): \n",
    "    _, frame = cap.read() \n",
    "    # It converts the BGR color space of image to HSV color space \n",
    "    hsv = cv2.cvtColor(frame, cv2.COLOR_BGR2HSV) \n",
    "      \n",
    "    # Threshold of blue in HSV space \n",
    "    lower_blue = np.array([60, 35, 140]) \n",
    "    upper_blue = np.array([180, 255, 255]) \n",
    "  \n",
    "    # preparing the mask to overlay \n",
    "    mask = cv2.inRange(hsv, lower_blue, upper_blue) \n",
    "      \n",
    "    # The black region in the mask has the value of 0, so when multiplied with original image removes all non-blue regions \n",
    "    result = cv2.bitwise_and(frame, frame, mask = mask) \n",
    "  \n",
    "    cv2.imshow('frame', frame) \n",
    "    cv2.imshow('mask', mask) \n",
    "    cv2.imshow('result', result)\n",
    "    \n",
    "    k = cv2.waitKey(30) & 0xff\n",
    "    if k == 27: \n",
    "        break\n",
    "    \n",
    "cap.release()    \n",
    "cv2.destroyAllWindows()"
   ]
  }
 ],
 "metadata": {
  "kernelspec": {
   "display_name": "ComputerVision",
   "language": "python",
   "name": "python3"
  },
  "language_info": {
   "codemirror_mode": {
    "name": "ipython",
    "version": 3
   },
   "file_extension": ".py",
   "mimetype": "text/x-python",
   "name": "python",
   "nbconvert_exporter": "python",
   "pygments_lexer": "ipython3",
   "version": "3.9.15"
  }
 },
 "nbformat": 4,
 "nbformat_minor": 2
}
