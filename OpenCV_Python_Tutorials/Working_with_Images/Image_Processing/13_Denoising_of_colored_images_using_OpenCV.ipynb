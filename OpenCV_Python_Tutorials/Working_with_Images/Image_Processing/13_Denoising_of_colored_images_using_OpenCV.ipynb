{
 "cells": [
  {
   "cell_type": "markdown",
   "metadata": {},
   "source": [
    "### Denoising of colored images using OpenCV\n",
    "\n",
    "Denoising of an image refers to the process of reconstruction of a signal from noisy images. Denoising is done to remove unwanted noise from image to analyze it in better form. It refers to one of the major pre-processing steps. There are four functions in opencv which is used for denoising of different images.\n",
    "\n",
    "<b>Syntax:</b> cv2.fastNlMeansDenoisingColored( P1, P2, float P3, float P4, int P5, int P6) \n",
    "\n",
    "<b>Parameters:</b>\n",
    "\n",
    " - P1 – Source Image Array \n",
    " - P2 – Destination Image Array \n",
    " - P3 – Size in pixels of the template patch that is used to compute weights. \n",
    " - P4 – Size in pixels of the window that is used to compute a weighted average for the given pixel. \n",
    " - P5 – Parameter regulating filter strength for luminance component. \n",
    " - P6 – Same as above but for color components // Not used in a grayscale image."
   ]
  },
  {
   "cell_type": "code",
   "execution_count": 1,
   "metadata": {},
   "outputs": [],
   "source": [
    "import cv2\n",
    "import numpy as np"
   ]
  },
  {
   "cell_type": "code",
   "execution_count": 2,
   "metadata": {},
   "outputs": [],
   "source": [
    "# read the input image\n",
    "image = cv2.imread(\"noisy.png\", 1)\n",
    "\n",
    "# denoising the image\n",
    "dst = cv2.fastNlMeansDenoisingColored(image, None, 10, 10, 7, 15)\n",
    "\n",
    "cv2.imshow(\"image\", image)\n",
    "cv2.imshow(\"dst\", dst)\n",
    "\n",
    "cv2.waitKey(0)\n",
    "cv2.destroyAllWindows()"
   ]
  }
 ],
 "metadata": {
  "kernelspec": {
   "display_name": "ComputerVision",
   "language": "python",
   "name": "python3"
  },
  "language_info": {
   "codemirror_mode": {
    "name": "ipython",
    "version": 3
   },
   "file_extension": ".py",
   "mimetype": "text/x-python",
   "name": "python",
   "nbconvert_exporter": "python",
   "pygments_lexer": "ipython3",
   "version": "3.9.15"
  }
 },
 "nbformat": 4,
 "nbformat_minor": 2
}
