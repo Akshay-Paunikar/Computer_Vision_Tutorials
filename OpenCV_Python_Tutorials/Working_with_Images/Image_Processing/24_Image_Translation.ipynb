{
 "cells": [
  {
   "cell_type": "markdown",
   "metadata": {},
   "source": [
    "### Image Translation\n",
    "\n",
    "Translation refers to the rectilinear shift of an object i.e. an image from one location to another. If we know the amount of shift in horizontal and the vertical direction, say (tx, ty) then we can make a transformation matrix e.g.\n",
    "\n",
    "[[1 0 tx\n",
    "\n",
    " 0 1 ty]]\n",
    "\n",
    "where tx denotes the shift along the x-axis and ty denotes shift along the y-axis i.e. the number of pixels by which we need to shift about in that direction. Now, we can use the cv2.wrapAffine() function to implement these translations. This function requires a 2×3 array. The numpy array should be of float type.\n",
    "\n",
    "Advantages/application of image translation are:\n",
    "\n",
    " - Hiding a part of the image\n",
    " - Cropping an image\n",
    " - Shifting an image\n",
    " - Animating an image using image translations in loop."
   ]
  },
  {
   "cell_type": "code",
   "execution_count": 1,
   "metadata": {},
   "outputs": [],
   "source": [
    "import cv2\n",
    "import numpy as np"
   ]
  },
  {
   "cell_type": "code",
   "execution_count": 2,
   "metadata": {},
   "outputs": [],
   "source": [
    "# read the image\n",
    "image = cv2.imread(\"coin-detection.jpg\", 1)\n",
    "\n",
    "# Store height and width of the image \n",
    "height, width = image.shape[:2] \n",
    "  \n",
    "quarter_height, quarter_width = height / 4, width / 4\n",
    "  \n",
    "T = np.float32([[1, 0, quarter_width], [0, 1, quarter_height]]) \n",
    "  \n",
    "# We use warpAffine to transform the image using the matrix, T \n",
    "img_translation = cv2.warpAffine(image, T, (width, height)) \n",
    "  \n",
    "cv2.imshow(\"Originalimage\", image) \n",
    "cv2.imshow('Translation', img_translation) \n",
    "\n",
    "cv2.waitKey() \n",
    "cv2.destroyAllWindows()"
   ]
  }
 ],
 "metadata": {
  "kernelspec": {
   "display_name": "ComputerVision",
   "language": "python",
   "name": "python3"
  },
  "language_info": {
   "codemirror_mode": {
    "name": "ipython",
    "version": 3
   },
   "file_extension": ".py",
   "mimetype": "text/x-python",
   "name": "python",
   "nbconvert_exporter": "python",
   "pygments_lexer": "ipython3",
   "version": "3.9.15"
  }
 },
 "nbformat": 4,
 "nbformat_minor": 2
}
