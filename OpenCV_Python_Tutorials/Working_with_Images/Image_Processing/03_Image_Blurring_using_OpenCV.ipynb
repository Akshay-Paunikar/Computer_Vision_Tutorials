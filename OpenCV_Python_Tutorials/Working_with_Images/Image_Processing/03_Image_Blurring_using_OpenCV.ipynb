{
 "cells": [
  {
   "attachments": {
    "image.png": {
     "image/png": "[encoded data removed]"
    }
   },
   "cell_type": "markdown",
   "metadata": {},
   "source": [
    "### Image Blurring using OpenCV\n",
    "\n",
    "Image Blurring refers to making the image less clear or distinct. It is done with the help of various low pass filter kernels. \n",
    "\n",
    "Advantages of blurring:\n",
    "\n",
    " - It helps in Noise removal. As noise is considered as high pass signal so by the application of low pass filter kernel we restrict noise.\n",
    " - It helps in smoothing the image.\n",
    " - Low intensity edges are removed.\n",
    " - It helps in hiding the details when necessary. For e.g. in many cases police deliberately want to hide the face of the victim, in such cases blurring is required.\n",
    "\n",
    "#### Important types of blurring:\n",
    "\n",
    " - <b>Gaussian Blurring:</b> Gaussian blur is the result of blurring an image by a Gaussian function. It is a widely used effect in graphics software, typically to reduce image noise and reduce detail. It is also used as a preprocessing stage before applying our machine learning or deep learning models. E.g. of a Gaussian kernel(3×3)\n",
    " \n",
    " ![image.png](attachment:image.png)\n",
    "\n",
    " - <b>Median Blur:</b> The Median Filter is a non-linear digital filtering technique, often used to remove noise from an image or signal. Median filtering is very widely used in digital image processing because, under certain conditions, it preserves edges while removing noise. It is one of the best algorithms to remove Salt and pepper noise.\n",
    " - <b>Bilateral Blur:</b> A bilateral filter is a non-linear, edge-preserving, and noise-reducing smoothing filter for images. It replaces the intensity of each pixel with a weighted average of intensity values from nearby pixels. This weight can be based on a Gaussian distribution. Thus, sharp edges are preserved while discarding the weak ones."
   ]
  },
  {
   "cell_type": "code",
   "execution_count": 1,
   "metadata": {},
   "outputs": [],
   "source": [
    "import cv2\n",
    "import numpy as np"
   ]
  },
  {
   "cell_type": "code",
   "execution_count": 2,
   "metadata": {},
   "outputs": [],
   "source": [
    "# read the image\n",
    "image = cv2.imread(\"orange.jpg\", 1)\n",
    "\n",
    "cv2.imshow('Original Image', image) \n",
    "cv2.waitKey(0) \n",
    "  \n",
    "# Gaussian Blur \n",
    "Gaussian = cv2.GaussianBlur(image, (7, 7), 0) \n",
    "cv2.imshow('Gaussian Blurring', Gaussian) \n",
    "cv2.waitKey(0) \n",
    "  \n",
    "# Median Blur \n",
    "median = cv2.medianBlur(image, 5) \n",
    "cv2.imshow('Median Blurring', median) \n",
    "cv2.waitKey(0) \n",
    "  \n",
    "  \n",
    "# Bilateral Blur \n",
    "bilateral = cv2.bilateralFilter(image, 9, 75, 75) \n",
    "cv2.imshow('Bilateral Blurring', bilateral) \n",
    "cv2.waitKey(0) \n",
    "cv2.destroyAllWindows()"
   ]
  }
 ],
 "metadata": {
  "kernelspec": {
   "display_name": "ComputerVision",
   "language": "python",
   "name": "python3"
  },
  "language_info": {
   "codemirror_mode": {
    "name": "ipython",
    "version": 3
   },
   "file_extension": ".py",
   "mimetype": "text/x-python",
   "name": "python",
   "nbconvert_exporter": "python",
   "pygments_lexer": "ipython3",
   "version": "3.9.15"
  }
 },
 "nbformat": 4,
 "nbformat_minor": 2
}
