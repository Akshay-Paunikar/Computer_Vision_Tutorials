{
 "cells": [
  {
   "cell_type": "markdown",
   "metadata": {},
   "source": [
    "### Erosion and Dilation of images using OpenCV\n",
    "\n",
    "Morphological operations are a set of operations that process images based on shapes. They apply a structuring element to an input image and generate an output image. The most basic morphological operations are two: Erosion and Dilation \n",
    "\n",
    "<b>Basics of Erosion:</b> \n",
    "\n",
    " - Erodes away the boundaries of the foreground object\n",
    " - Used to diminish the features of an image.\n",
    "\n",
    "<b>Working of Erosion:</b> \n",
    "\n",
    " 1. A kernel (a matrix of odd size(3,5,7)) is convolved with the image.\n",
    " 2. A pixel in the original image (either 1 or 0) will be considered 1 only if all the pixels under the kernel are 1, otherwise, it is eroded (made to zero).\n",
    " 3. Thus all the pixels near the boundary will be discarded depending upon the size of the kernel.\n",
    " 4. So the thickness or size of the foreground object decreases or simply the white region decreases in the image.\n",
    "\n",
    "<b>Basics of Dilation:</b> \n",
    "\n",
    " - Increases the object area\n",
    " - Used to accentuate features\n",
    "\n",
    "<b>Working of Dilation:</b>\n",
    "\n",
    " 1. A kernel (a matrix of odd size(3,5,7)) is convolved with the image.\n",
    " 2. A pixel element in the original image is ‘1’ if at least one pixel under the kernel is ‘1’.\n",
    " 3. It increases the white region in the image or the size of the foreground object increases.\n",
    "\n",
    "<b>Uses of Erosion and Dilation:</b>\n",
    "\n",
    " - Erosion: \n",
    "    - It is useful for removing small white noises.\n",
    "    - Used to detach two connected objects etc.\n",
    "\n",
    " - Dilation:\n",
    "    - In cases like noise removal, erosion is followed by dilation. Because, erosion removes white noises, but it also shrinks our object. So we dilate it. Since noise is gone, they won’t come back, but our object area increases.\n",
    "    - It is also useful in joining broken parts of an object."
   ]
  },
  {
   "cell_type": "code",
   "execution_count": 7,
   "metadata": {},
   "outputs": [],
   "source": [
    "import cv2\n",
    "import numpy as np"
   ]
  },
  {
   "cell_type": "code",
   "execution_count": 8,
   "metadata": {},
   "outputs": [],
   "source": [
    "# read the input image\n",
    "image = cv2.imread(\"border.png\")\n",
    "\n",
    "# Taking a matrix of size 5 as the kernel \n",
    "kernel = np.ones((5, 5), np.uint8)\n",
    "\n",
    "# The first parameter is the original image, kernel is the matrix with which image is convolved and third parameter is the number of \n",
    "# iterations, which will determine how much you want to erode/dilate a given image. \n",
    "\n",
    "img_erosion = cv2.erode(image, kernel, iterations=1) \n",
    "img_dilation = cv2.dilate(image, kernel, iterations=1) \n",
    "  \n",
    "cv2.imshow('Input', image) \n",
    "cv2.imshow('Erosion', img_erosion) \n",
    "cv2.imshow('Dilation', img_dilation) \n",
    "  \n",
    "cv2.waitKey(0)\n",
    "cv2.destroyAllWindows()"
   ]
  }
 ],
 "metadata": {
  "kernelspec": {
   "display_name": "ComputerVision",
   "language": "python",
   "name": "python3"
  },
  "language_info": {
   "codemirror_mode": {
    "name": "ipython",
    "version": 3
   },
   "file_extension": ".py",
   "mimetype": "text/x-python",
   "name": "python",
   "nbconvert_exporter": "python",
   "pygments_lexer": "ipython3",
   "version": "3.9.15"
  }
 },
 "nbformat": 4,
 "nbformat_minor": 2
}
