{
 "cells": [
  {
   "cell_type": "markdown",
   "metadata": {},
   "source": [
    "### Arithmetic Operations on images using OpenCV\n",
    "\n",
    "Arithmetic Operations like Addition, Subtraction, and Bitwise Operations(AND, OR, NOT, XOR) can be applied to the input images. These operations can be helpful in enhancing the properties of the input images. The Image arithmetics are important for analyzing the input image properties. The operated images can be further used as an enhanced input image, and many more operations can be applied for clarifying, thresholding, dilating etc of the image.\n",
    "\n",
    "#### Addition of Image:\n",
    "\n",
    "We can add two images by using function cv2.add(). This directly adds up image pixels in the two images. \n",
    "\n",
    "<b>Syntax:</b> cv2.add(img1, img2)\n",
    "\n",
    "But adding the pixels is not an ideal situation. So, we use cv2.addweighted(). Remember, both images should be of equal size and depth. \n",
    "\n",
    "<b>Syntax:</b> cv2.addWeighted(img1, wt1, img2, wt2, gammaValue)\n",
    "\n",
    "<b>Parameters:</b> \n",
    "\n",
    " - img1: First Input Image array(Single-channel, 8-bit or floating-point) \n",
    " - wt1: Weight of the first input image elements to be applied to the final image \n",
    " - img2: Second Input Image array(Single-channel, 8-bit or floating-point) \n",
    " - wt2: Weight of the second input image elements to be applied to the final image \n",
    " - gammaValue: Measurement of light"
   ]
  },
  {
   "cell_type": "code",
   "execution_count": 1,
   "metadata": {},
   "outputs": [],
   "source": [
    "import cv2  \n",
    "import numpy as np"
   ]
  },
  {
   "cell_type": "code",
   "execution_count": 2,
   "metadata": {},
   "outputs": [],
   "source": [
    "# read the images\n",
    "image1 = cv2.imread('arithmeticop.jpg')  \n",
    "image2 = cv2.imread('arithmeticop2.jpg')\n",
    "\n",
    "\n",
    "cv2.imshow(\"image1\", image1)\n",
    "\n",
    "cv2.waitKey(0)\n",
    "cv2.destroyAllWindows()\n",
    "\n",
    "cv2.imshow(\"image2\", image2)\n",
    "\n",
    "cv2.waitKey(0)\n",
    "cv2.destroyAllWindows()"
   ]
  },
  {
   "cell_type": "code",
   "execution_count": 3,
   "metadata": {},
   "outputs": [],
   "source": [
    "# cv2.addWeighted is applied over the image inputs with applied parameters \n",
    "weightedSum = cv2.addWeighted(image1, 0.5, image2, 0.4, 0)"
   ]
  },
  {
   "cell_type": "code",
   "execution_count": 4,
   "metadata": {},
   "outputs": [],
   "source": [
    "# the window showing output image with the weighted sum  \n",
    "cv2.imshow('Weighted Image', weightedSum)\n",
    "\n",
    "# De-allocate any associated memory usage   \n",
    "if cv2.waitKey(0) & 0xff == 27:  \n",
    "    cv2.destroyAllWindows()"
   ]
  },
  {
   "cell_type": "markdown",
   "metadata": {},
   "source": [
    "#### Subtraction of Image:\n",
    "\n",
    "Just like addition, we can subtract the pixel values in two images and merge them with the help of cv2.subtract(). The images should be of equal size and depth. \n",
    "\n",
    "<b>Syntax: </b>cv2.subtract(src1, src2)"
   ]
  },
  {
   "cell_type": "code",
   "execution_count": 5,
   "metadata": {},
   "outputs": [],
   "source": [
    "# read the images\n",
    "image1 = cv2.imread('arithmeticop3.jpg')  \n",
    "image2 = cv2.imread('arithmeticop4.jpg')\n",
    "\n",
    "\n",
    "cv2.imshow(\"image1\", image1)\n",
    "\n",
    "cv2.waitKey(0)\n",
    "cv2.destroyAllWindows()\n",
    "\n",
    "cv2.imshow(\"image2\", image2)\n",
    "\n",
    "cv2.waitKey(0)\n",
    "cv2.destroyAllWindows()"
   ]
  },
  {
   "cell_type": "code",
   "execution_count": 6,
   "metadata": {},
   "outputs": [],
   "source": [
    "# cv2.subtract is applied over the image inputs with applied parameters \n",
    "sub = cv2.subtract(image1, image2) \n",
    "  \n",
    "# the window showing output image with the subtracted image  \n",
    "cv2.imshow('Subtracted Image', sub) \n",
    "  \n",
    "# De-allocate any associated memory usage   \n",
    "if cv2.waitKey(0) & 0xff == 27:  \n",
    "    cv2.destroyAllWindows()"
   ]
  },
  {
   "cell_type": "markdown",
   "metadata": {},
   "source": [
    "### Bitwise Operations\n",
    "\n",
    "Bitwise operations are used in image manipulation and used for extracting essential parts in the image. In this article, Bitwise operations used are: AND, OR, XOR, NOT\n",
    "\n",
    "Also, Bitwise operations helps in image masking. Image creation can be enabled with the help of these operations. These operations can be helpful in enhancing the properties of the input images."
   ]
  },
  {
   "cell_type": "markdown",
   "metadata": {},
   "source": [
    "#### Bitwise AND operation on Image:\n",
    "\n",
    "<b>Syntax:</b> cv2.bitwise_and(source1, source2, destination, mask)\n",
    "\n",
    "<b>Parameters:</b> \n",
    "\n",
    " - source1: First Input Image array(Single-channel, 8-bit or floating-point) \n",
    " - source2: Second Input Image array(Single-channel, 8-bit or floating-point) \n",
    " - dest: Output array (Similar to the dimensions and type of Input image array) \n",
    " - mask: Operation mask, Input / output 8-bit single-channel mask "
   ]
  },
  {
   "cell_type": "code",
   "execution_count": 7,
   "metadata": {},
   "outputs": [],
   "source": [
    "# read the images\n",
    "img1 = cv2.imread('bitwise.png')   \n",
    "img2 = cv2.imread('bitwise2.png')\n",
    "\n",
    "cv2.imshow(\"image1\", img1)\n",
    "\n",
    "cv2.waitKey(0)\n",
    "cv2.destroyAllWindows()\n",
    "\n",
    "cv2.imshow(\"image2\", img2)\n",
    "\n",
    "cv2.waitKey(0)\n",
    "cv2.destroyAllWindows()"
   ]
  },
  {
   "cell_type": "code",
   "execution_count": 8,
   "metadata": {},
   "outputs": [],
   "source": [
    "# cv2.bitwise_and is applied over the image inputs with applied parameters  \n",
    "dest_and = cv2.bitwise_and(img2, img1, mask = None)\n",
    "\n",
    "# the window showing output image with the Bitwise AND operation on the input images \n",
    "cv2.imshow('Bitwise And', dest_and) \n",
    "   \n",
    "# De-allocate any associated memory usage   \n",
    "if cv2.waitKey(0) & 0xff == 27:  \n",
    "    cv2.destroyAllWindows()"
   ]
  },
  {
   "cell_type": "markdown",
   "metadata": {},
   "source": [
    "#### Bitwise OR operation on Image:\n",
    "\n",
    "<b>Syntax:</b> cv2.bitwise_or(source1, source2, destination, mask)\n",
    "\n",
    "<b>Parameters:</b> \n",
    "\n",
    " - source1: First Input Image array(Single-channel, 8-bit or floating-point) \n",
    " - source2: Second Input Image array(Single-channel, 8-bit or floating-point) \n",
    " - dest: Output array (Similar to the dimensions and type of Input image array) \n",
    " - mask: Operation mask, Input / output 8-bit single-channel mask "
   ]
  },
  {
   "cell_type": "code",
   "execution_count": 9,
   "metadata": {},
   "outputs": [],
   "source": [
    "# read the images\n",
    "img1 = cv2.imread('bitwise.png')   \n",
    "img2 = cv2.imread('bitwise2.png')\n",
    "\n",
    "cv2.imshow(\"image1\", img1)\n",
    "\n",
    "cv2.waitKey(0)\n",
    "cv2.destroyAllWindows()\n",
    "\n",
    "cv2.imshow(\"image2\", img2)\n",
    "\n",
    "cv2.waitKey(0)\n",
    "cv2.destroyAllWindows()"
   ]
  },
  {
   "cell_type": "code",
   "execution_count": 11,
   "metadata": {},
   "outputs": [],
   "source": [
    "# cv2.bitwise_or is applied over the image inputs with applied parameters  \n",
    "dest_or = cv2.bitwise_or(img2, img1, mask = None)\n",
    "\n",
    "# the window showing output image with the Bitwise OR operation on the input images \n",
    "cv2.imshow('Bitwise OR', dest_or) \n",
    "   \n",
    "# De-allocate any associated memory usage   \n",
    "if cv2.waitKey(0) & 0xff == 27:  \n",
    "    cv2.destroyAllWindows()"
   ]
  },
  {
   "cell_type": "markdown",
   "metadata": {},
   "source": [
    "#### Bitwise XOR operation on Image:\n",
    "\n",
    "<b>Syntax:</b> cv2.bitwise_xor(source1, source2, destination, mask)\n",
    "\n",
    "<b>Parameters:</b> \n",
    "\n",
    " - source1: First Input Image array(Single-channel, 8-bit or floating-point) \n",
    " - source2: Second Input Image array(Single-channel, 8-bit or floating-point) \n",
    " - dest: Output array (Similar to the dimensions and type of Input image array) \n",
    " - mask: Operation mask, Input / output 8-bit single-channel mask "
   ]
  },
  {
   "cell_type": "code",
   "execution_count": 12,
   "metadata": {},
   "outputs": [],
   "source": [
    "# read the images\n",
    "img1 = cv2.imread('bitwise.png')   \n",
    "img2 = cv2.imread('bitwise2.png')\n",
    "\n",
    "cv2.imshow(\"image1\", img1)\n",
    "\n",
    "cv2.waitKey(0)\n",
    "cv2.destroyAllWindows()\n",
    "\n",
    "cv2.imshow(\"image2\", img2)\n",
    "\n",
    "cv2.waitKey(0)\n",
    "cv2.destroyAllWindows()"
   ]
  },
  {
   "cell_type": "code",
   "execution_count": 13,
   "metadata": {},
   "outputs": [],
   "source": [
    "# cv2.bitwise_xor is applied over the image inputs with applied parameters  \n",
    "dest_xor = cv2.bitwise_xor(img2, img1, mask = None)\n",
    "\n",
    "# the window showing output image with the Bitwise OR operation on the input images \n",
    "cv2.imshow('Bitwise XOR', dest_xor) \n",
    "   \n",
    "# De-allocate any associated memory usage   \n",
    "if cv2.waitKey(0) & 0xff == 27:  \n",
    "    cv2.destroyAllWindows()"
   ]
  },
  {
   "cell_type": "markdown",
   "metadata": {},
   "source": [
    "#### Bitwise NOT operation on Image: \n",
    "\n",
    "Inversion of input array elements.\n",
    "\n",
    "<b>Syntax:</b> cv2.bitwise_not(source, destination, mask)\n",
    "\n",
    "<b>Parameters:</b>\n",
    "\n",
    " - source: Input Image array(Single-channel, 8-bit or floating-point) \n",
    " - dest: Output array (Similar to the dimensions and type of Input image array) \n",
    " - mask: Operation mask, Input / output 8-bit single-channel mask "
   ]
  },
  {
   "cell_type": "code",
   "execution_count": 17,
   "metadata": {},
   "outputs": [],
   "source": [
    "# read the images\n",
    "img1 = cv2.imread('bitwise.png')   \n",
    "img2 = cv2.imread('bitwise2.png')\n",
    "\n",
    "cv2.imshow(\"image1\", img1)\n",
    "\n",
    "cv2.waitKey(0)\n",
    "cv2.destroyAllWindows()\n",
    "\n",
    "cv2.imshow(\"image2\", img2)\n",
    "\n",
    "cv2.waitKey(0)\n",
    "cv2.destroyAllWindows()"
   ]
  },
  {
   "cell_type": "code",
   "execution_count": 18,
   "metadata": {},
   "outputs": [],
   "source": [
    "# cv2.bitwise_not is applied over the image inputs with applied parameters  \n",
    "dest_not1 = cv2.bitwise_not(img1, mask = None)\n",
    "dest_not2 = cv2.bitwise_not(img2, mask = None)\n",
    "\n",
    "# the window showing output image with the Bitwise NOT operation on the input images \n",
    "cv2.imshow('Bitwise NOT1', dest_not1)\n",
    "cv2.imshow('Bitwise NOT2', dest_not2)\n",
    "   \n",
    "# De-allocate any associated memory usage   \n",
    "if cv2.waitKey(0) & 0xff == 27:  \n",
    "    cv2.destroyAllWindows()"
   ]
  }
 ],
 "metadata": {
  "kernelspec": {
   "display_name": "ComputerVision",
   "language": "python",
   "name": "python3"
  },
  "language_info": {
   "codemirror_mode": {
    "name": "ipython",
    "version": 3
   },
   "file_extension": ".py",
   "mimetype": "text/x-python",
   "name": "python",
   "nbconvert_exporter": "python",
   "pygments_lexer": "ipython3",
   "version": "3.9.15"
  }
 },
 "nbformat": 4,
 "nbformat_minor": 2
}
