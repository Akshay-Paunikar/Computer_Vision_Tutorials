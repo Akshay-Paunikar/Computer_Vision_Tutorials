{
 "cells": [
  {
   "cell_type": "markdown",
   "metadata": {},
   "source": [
    "### Draw a line"
   ]
  },
  {
   "cell_type": "markdown",
   "metadata": {},
   "source": [
    "cv2.line() method is used to draw a line on any image.\n",
    "\n",
    "<b>Syntax:</b>\n",
    "\n",
    "cv2.line(image, start_point, end_point, color, thickness) \n",
    "\n",
    "<b>Parameters:</b> \n",
    "\n",
    " - image: It is the image on which line is to be drawn.\n",
    " - start_point: It is the starting coordinates of the line. The coordinates are represented as tuples of two values i.e. (X coordinate value, Y coordinate value). \n",
    " - end_point: It is the ending coordinates of the line. The coordinates are represented as tuples of two values i.e. (X coordinate value, Y coordinate value). \n",
    " - color: It is the color of the line to be drawn. For RGB, we pass a tuple. eg: (255, 0, 0) for blue color.\n",
    " - thickness: It is the thickness of the line in px.\n",
    "  \n",
    "<b>Return Value:</b> It returns an image."
   ]
  },
  {
   "cell_type": "markdown",
   "metadata": {},
   "source": [
    "### Draw arrow segment"
   ]
  },
  {
   "cell_type": "markdown",
   "metadata": {},
   "source": [
    "cv2.arrowedLine() method is used to draw arrow segment pointing from the start point to the end point. \n",
    "\n",
    "<b>Syntax:</b> cv2.arrowedLine(image, start_point, end_point, color, thickness, line_type, shift, tipLength)\n",
    "\n",
    "<b>Parameters:</b>\n",
    "\n",
    " - image: It is the image on which line is to be drawn. \n",
    " - start_point: It is the starting coordinates of line. The coordinates are represented as tuples of two values i.e. (X coordinate value, Y coordinate value). \n",
    " - end_point: It is the ending coordinates of line. The coordinates are represented as tuples of two values i.e. (X coordinate value, Y coordinate value). \n",
    " - color: It is the color of line to be drawn. For BGR, we pass a tuple. eg: (255, 0, 0) for blue color. \n",
    " - thickness: It is the thickness of the line in px. \n",
    " - line_type: It denotes the type of the line for drawing. \n",
    " - shift: It denotes number of fractional bits in the point coordinates. \n",
    " - tipLength: It denotes the length of the arrow tip in relation to the arrow length.\n",
    "\n",
    "<b>Return Value:</b> It returns an image. "
   ]
  },
  {
   "cell_type": "markdown",
   "metadata": {},
   "source": [
    "### Draw an ellipse"
   ]
  },
  {
   "cell_type": "markdown",
   "metadata": {},
   "source": [
    "cv2.ellipse() method is used to draw a ellipse on any image.\n",
    "\n",
    "<b>Syntax:</b> cv2.ellipse(image, centerCoordinates, axesLength, angle, startAngle, endAngle, color [, thickness[, lineType[, shift]]]) \n",
    "\n",
    "<b>Parameters:</b>\n",
    "\n",
    " - image: It is the image on which ellipse is to be drawn. \n",
    " - centerCoordinates: It is the center coordinates of ellipse. The coordinates are represented as tuples of two values i.e. (X coordinate value, Y coordinate value). \n",
    " - axesLength: It contains tuple of two variables containing major and minor axis of ellipse (major axis length, minor axis length). \n",
    " - angle: Ellipse rotation angle in degrees. \n",
    " - startAngle: Starting angle of the elliptic arc in degrees. \n",
    " - endAngle: Ending angle of the elliptic arc in degrees. \n",
    " - color: It is the color of border line of shape to be drawn. For BGR, we pass a tuple. eg: (255, 0, 0) for blue color. \n",
    " - thickness: It is the thickness of the shape border line in px. Thickness of -1 px will fill the shape by the specified color. \n",
    " - lineType: This is an optional parameter.It gives the type of the ellipse boundary. \n",
    " - shift: This is an optional parameter. It denotes the number of fractional bits in the coordinates of the center and values of axes. \n",
    "\n",
    "<b>Return Value:</b> It returns an image."
   ]
  }
 ],
 "metadata": {
  "kernelspec": {
   "display_name": "ComputerVision",
   "language": "python",
   "name": "python3"
  },
  "language_info": {
   "name": "python",
   "version": "3.9.15"
  }
 },
 "nbformat": 4,
 "nbformat_minor": 2
}
