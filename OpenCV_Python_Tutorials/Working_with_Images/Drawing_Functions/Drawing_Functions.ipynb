{
 "cells": [
  {
   "cell_type": "markdown",
   "metadata": {},
   "source": [
    "### Draw a line"
   ]
  },
  {
   "cell_type": "markdown",
   "metadata": {},
   "source": [
    "cv2.line() method is used to draw a line on any image.\n",
    "\n",
    "<b>Syntax:</b>\n",
    "\n",
    "cv2.line(image, start_point, end_point, color, thickness) \n",
    "\n",
    "<b>Parameters:</b> \n",
    "\n",
    " - image: It is the image on which line is to be drawn.\n",
    " - start_point: It is the starting coordinates of the line. The coordinates are represented as tuples of two values i.e. (X coordinate value, Y coordinate value). \n",
    " - end_point: It is the ending coordinates of the line. The coordinates are represented as tuples of two values i.e. (X coordinate value, Y coordinate value). \n",
    " - color: It is the color of the line to be drawn. For RGB, we pass a tuple. eg: (255, 0, 0) for blue color.\n",
    " - thickness: It is the thickness of the line in px.\n",
    "  \n",
    "<b>Return Value:</b> It returns an image."
   ]
  },
  {
   "cell_type": "markdown",
   "metadata": {},
   "source": []
  }
 ],
 "metadata": {
  "kernelspec": {
   "display_name": "ComputerVision",
   "language": "python",
   "name": "python3"
  },
  "language_info": {
   "name": "python",
   "version": "3.9.15"
  }
 },
 "nbformat": 4,
 "nbformat_minor": 2
}
