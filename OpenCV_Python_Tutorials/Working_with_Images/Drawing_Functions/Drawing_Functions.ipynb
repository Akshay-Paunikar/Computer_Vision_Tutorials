{
 "cells": [
  {
   "cell_type": "markdown",
   "metadata": {},
   "source": [
    "### Draw a line"
   ]
  },
  {
   "cell_type": "markdown",
   "metadata": {},
   "source": [
    "cv2.line() method is used to draw a line on any image.\n",
    "\n",
    "<b>Syntax:</b>\n",
    "\n",
    "cv2.line(image, start_point, end_point, color, thickness) \n",
    "\n",
    "<b>Parameters:</b> \n",
    "\n",
    " - image: It is the image on which line is to be drawn.\n",
    " - start_point: It is the starting coordinates of the line. The coordinates are represented as tuples of two values i.e. (X coordinate value, Y coordinate value). \n",
    " - end_point: It is the ending coordinates of the line. The coordinates are represented as tuples of two values i.e. (X coordinate value, Y coordinate value). \n",
    " - color: It is the color of the line to be drawn. For RGB, we pass a tuple. eg: (255, 0, 0) for blue color.\n",
    " - thickness: It is the thickness of the line in px.\n",
    "  \n",
    "<b>Return Value:</b> It returns an image."
   ]
  },
  {
   "cell_type": "markdown",
   "metadata": {},
   "source": [
    "### Draw arrow segment"
   ]
  },
  {
   "cell_type": "markdown",
   "metadata": {},
   "source": [
    "cv2.arrowedLine() method is used to draw arrow segment pointing from the start point to the end point. \n",
    "\n",
    "<b>Syntax:</b> cv2.arrowedLine(image, start_point, end_point, color, thickness, line_type, shift, tipLength)\n",
    "\n",
    "<b>Parameters:</b>\n",
    "\n",
    " - image: It is the image on which line is to be drawn. \n",
    " - start_point: It is the starting coordinates of line. The coordinates are represented as tuples of two values i.e. (X coordinate value, Y coordinate value). \n",
    " - end_point: It is the ending coordinates of line. The coordinates are represented as tuples of two values i.e. (X coordinate value, Y coordinate value). \n",
    " - color: It is the color of line to be drawn. For BGR, we pass a tuple. eg: (255, 0, 0) for blue color. \n",
    " - thickness: It is the thickness of the line in px. \n",
    " - line_type: It denotes the type of the line for drawing. \n",
    " - shift: It denotes number of fractional bits in the point coordinates. \n",
    " - tipLength: It denotes the length of the arrow tip in relation to the arrow length.\n",
    "\n",
    "<b>Return Value:</b> It returns an image. "
   ]
  },
  {
   "cell_type": "markdown",
   "metadata": {},
   "source": [
    "### Draw an ellipse"
   ]
  },
  {
   "cell_type": "markdown",
   "metadata": {},
   "source": [
    "cv2.ellipse() method is used to draw a ellipse on any image.\n",
    "\n",
    "<b>Syntax:</b> cv2.ellipse(image, centerCoordinates, axesLength, angle, startAngle, endAngle, color [, thickness[, lineType[, shift]]]) \n",
    "\n",
    "<b>Parameters:</b>\n",
    "\n",
    " - image: It is the image on which ellipse is to be drawn. \n",
    " - centerCoordinates: It is the center coordinates of ellipse. The coordinates are represented as tuples of two values i.e. (X coordinate value, Y coordinate value). \n",
    " - axesLength: It contains tuple of two variables containing major and minor axis of ellipse (major axis length, minor axis length). \n",
    " - angle: Ellipse rotation angle in degrees. \n",
    " - startAngle: Starting angle of the elliptic arc in degrees. \n",
    " - endAngle: Ending angle of the elliptic arc in degrees. \n",
    " - color: It is the color of border line of shape to be drawn. For BGR, we pass a tuple. eg: (255, 0, 0) for blue color. \n",
    " - thickness: It is the thickness of the shape border line in px. Thickness of -1 px will fill the shape by the specified color. \n",
    " - lineType: This is an optional parameter.It gives the type of the ellipse boundary. \n",
    " - shift: This is an optional parameter. It denotes the number of fractional bits in the coordinates of the center and values of axes. \n",
    "\n",
    "<b>Return Value:</b> It returns an image."
   ]
  },
  {
   "cell_type": "markdown",
   "metadata": {},
   "source": [
    "### Draw a circle"
   ]
  },
  {
   "cell_type": "markdown",
   "metadata": {},
   "source": [
    "cv2.circle() method is used to draw a circle on any image. The syntax of cv2.circle() method is:\n",
    "\n",
    "<b>Syntax:</b> cv2.circle(image, center_coordinates, radius, color, thickness)\n",
    "\n",
    "<b>Parameters:</b>\n",
    "\n",
    " - image: It is the image on which the circle is to be drawn. \n",
    " - center_coordinates: It is the center coordinates of the circle. The coordinates are represented as tuples of two values i.e. (X coordinate value, Y coordinate value). \n",
    " - radius: It is the radius of the circle. \n",
    " - color: It is the color of the borderline of a circle to be drawn. For BGR, we pass a tuple. eg: (255, 0, 0) for blue color. \n",
    " - thickness: It is the thickness of the circle border line in px. Thickness of -1 px will fill the circle shape by the specified color.\n",
    "\n",
    "<b>Return Value:</b> It returns an image. "
   ]
  },
  {
   "cell_type": "markdown",
   "metadata": {},
   "source": [
    "### Draw a rectangle"
   ]
  },
  {
   "cell_type": "markdown",
   "metadata": {},
   "source": [
    "cv2.rectangle() method is used to draw a rectangle on any image.\n",
    "\n",
    "<b>Syntax:</b> cv2.rectangle(image, start_point, end_point, color, thickness) \n",
    "\n",
    "<b>Parameters:</b> \n",
    "\n",
    " - image: It is the image on which rectangle is to be drawn. \n",
    " - start_point: It is the starting coordinates of rectangle. The coordinates are represented as tuples of two values i.e. (X coordinate value, Y coordinate value). \n",
    " - end_point: It is the ending coordinates of rectangle. The coordinates are represented as tuples of two values i.e. (X coordinate value, Y coordinate value). \n",
    " - color: It is the color of border line of rectangle to be drawn. For BGR, we pass a tuple. eg: (255, 0, 0) for blue color. \n",
    " - thickness: It is the thickness of the rectangle border line in px. Thickness of -1 px will fill the rectangle shape by the specified color. \n",
    "\n",
    "<b>Return Value:</b> It returns an image."
   ]
  },
  {
   "cell_type": "markdown",
   "metadata": {},
   "source": [
    "### Draw a text string"
   ]
  },
  {
   "cell_type": "markdown",
   "metadata": {},
   "source": [
    "cv2.putText() method is used to draw a text string on any image.\n",
    "\n",
    "<b>Syntax:</b> cv2.putText(image, text, org, font, fontScale, color[, thickness[, lineType[, bottomLeftOrigin]]]) \n",
    "\n",
    "<b>Parameters:</b>\n",
    "\n",
    " - image: It is the image on which text is to be drawn. \n",
    " - text: Text string to be drawn. \n",
    " - org: It is the coordinates of the bottom-left corner of the text string in the image. The coordinates are represented as tuples of two values i.e. (X coordinate value, Y coordinate value). \n",
    " - font: It denotes the font type. Some of font types are FONT_HERSHEY_SIMPLEX, FONT_HERSHEY_PLAIN, , etc. \n",
    " - fontScale: Font scale factor that is multiplied by the font-specific base size. \n",
    " - color: It is the color of text string to be drawn. For BGR, we pass a tuple. eg: (255, 0, 0) for blue color. \n",
    " - thickness: It is the thickness of the line in px. \n",
    " - lineType: This is an optional parameter.It gives the type of the line to be used. \n",
    " - bottomLeftOrigin: This is an optional parameter. When it is true, the image data origin is at the bottom-left corner. Otherwise, it is at the top-left corner. \n",
    "\n",
    "<b>Return Value:</b> It returns an image."
   ]
  },
  {
   "cell_type": "markdown",
   "metadata": {},
   "source": [
    "### Find and draw contours"
   ]
  },
  {
   "cell_type": "markdown",
   "metadata": {},
   "source": [
    "Contours are defined as the line joining all the points along the boundary of an image that are having the same intensity. Contours come handy in shape analysis, finding the size of the object of interest, and object detection. OpenCV has findContour() function that helps in extracting the contours from the image. It works best on binary images, so we should first apply thresholding techniques, Sobel edges, etc.\n",
    "\n",
    "There are three essential arguments in cv2.findContours() function:\n",
    "\n",
    " - First one is source image, \n",
    " - second is contour retrieval mode, \n",
    " - third is contour approximation method and it outputs the image, contours, and hierarchy. \n",
    " \n",
    "'contours' is a Python list of all the contours in the image. Each individual contour is a Numpy array of (x, y) coordinates of boundary points of the object. \n",
    "\n",
    "<b>Contours Approximation Method</b> – In example, we see that contours are the boundaries of a shape with the same intensity. It stores the (x, y) coordinates of the boundary of a shape. But does it store all the coordinates? That is specified by this contour approximation method. If we pass cv2.CHAIN_APPROX_NONE, all the boundary points are stored. But actually, do we need all the points? For eg, if we have to find the contour of a straight line. We need just two endpoints of that line. This is what cv2.CHAIN_APPROX_SIMPLE does. It removes all redundant points and compresses the contour, thereby saving memory."
   ]
  },
  {
   "cell_type": "markdown",
   "metadata": {},
   "source": [
    "### Draw a triangle with centroid"
   ]
  },
  {
   "cell_type": "markdown",
   "metadata": {},
   "source": []
  }
 ],
 "metadata": {
  "kernelspec": {
   "display_name": "ComputerVision",
   "language": "python",
   "name": "python3"
  },
  "language_info": {
   "name": "python",
   "version": "3.9.15"
  }
 },
 "nbformat": 4,
 "nbformat_minor": 2
}
