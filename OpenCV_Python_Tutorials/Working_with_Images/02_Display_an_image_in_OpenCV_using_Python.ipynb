{
 "cells": [
  {
   "cell_type": "markdown",
   "metadata": {},
   "source": [
    "### Display an image in OpenCV using Python\n",
    "\n",
    "cv2.imshow() method is used to display an image in a window. The window automatically fits the image size.\n",
    "\n",
    "<b>Syntax:</b> cv2.imshow(window_name, image)\n",
    "\n",
    "<b>Parameters:</b>\n",
    " \n",
    " - window_name: A string representing the name of the window in which image to be displayed. \n",
    " - image: It is the image that is to be displayed.\n",
    " - Return Value: It doesn’t returns anything. "
   ]
  },
  {
   "cell_type": "code",
   "execution_count": 1,
   "metadata": {},
   "outputs": [],
   "source": [
    "# import required libraries\n",
    "import cv2"
   ]
  },
  {
   "cell_type": "code",
   "execution_count": 2,
   "metadata": {},
   "outputs": [],
   "source": [
    "# read an image using cv2.imread()\n",
    "image = cv2.imread(\"puppy.jpg\", cv2.IMREAD_COLOR)\n",
    "\n",
    "# display image using cv2.imshow()\n",
    "cv2.imshow(\"puppy\", image)\n",
    "cv2.waitKey(0)\n",
    "cv2.destroyAllWindows()"
   ]
  },
  {
   "cell_type": "code",
   "execution_count": 3,
   "metadata": {},
   "outputs": [],
   "source": [
    "# read and display image using image path\n",
    "path = \"E:/iNeuron/iNeuron_OpenCv/Computer_Vision_Tutorials/OpenCV_Python_Tutorials/Working_with_Images/puppy.jpg\"\n",
    "image = cv2.imread(path, 1)\n",
    "\n",
    "cv2.imshow(\"puppy\", image)\n",
    "cv2.waitKey(0)\n",
    "cv2.destroyAllWindows()"
   ]
  }
 ],
 "metadata": {
  "kernelspec": {
   "display_name": "ComputerVision",
   "language": "python",
   "name": "python3"
  },
  "language_info": {
   "codemirror_mode": {
    "name": "ipython",
    "version": 3
   },
   "file_extension": ".py",
   "mimetype": "text/x-python",
   "name": "python",
   "nbconvert_exporter": "python",
   "pygments_lexer": "ipython3",
   "version": "3.9.15"
  }
 },
 "nbformat": 4,
 "nbformat_minor": 2
}
